{
  "nbformat": 4,
  "nbformat_minor": 0,
  "metadata": {
    "colab": {
      "name": "week3.ipynb",
      "provenance": [],
      "collapsed_sections": []
    },
    "kernelspec": {
      "name": "python3",
      "display_name": "Python 3"
    },
    "language_info": {
      "name": "python"
    }
  },
  "cells": [
    {
      "cell_type": "code",
      "execution_count": null,
      "metadata": {
        "id": "KmPsA1XDcoaZ",
        "colab": {
          "base_uri": "https://localhost:8080/"
        },
        "outputId": "81169be4-6335-43b4-e7a0-c750869c6d38"
      },
      "outputs": [
        {
          "output_type": "stream",
          "name": "stdout",
          "text": [
            "<class 'pandas.core.frame.DataFrame'>\n",
            "Int64Index: 148654 entries, 0 to 148653\n",
            "Data columns (total 13 columns):\n",
            " #   Column            Non-Null Count   Dtype  \n",
            "---  ------            --------------   -----  \n",
            " 0   Id                148654 non-null  int64  \n",
            " 1   EmployeeName      148654 non-null  object \n",
            " 2   JobTitle          148654 non-null  object \n",
            " 3   BasePay           148045 non-null  float64\n",
            " 4   OvertimePay       148650 non-null  float64\n",
            " 5   OtherPay          148650 non-null  float64\n",
            " 6   Benefits          112491 non-null  float64\n",
            " 7   TotalPay          148654 non-null  float64\n",
            " 8   TotalPayBenefits  148654 non-null  float64\n",
            " 9   Year              148654 non-null  int64  \n",
            " 10  Notes             0 non-null       float64\n",
            " 11  Agency            148654 non-null  object \n",
            " 12  Status            0 non-null       float64\n",
            "dtypes: float64(8), int64(2), object(3)\n",
            "memory usage: 15.9+ MB\n"
          ]
        },
        {
          "output_type": "execute_result",
          "data": {
            "text/plain": [
              "423"
            ]
          },
          "metadata": {},
          "execution_count": 79
        }
      ],
      "source": [
        "#***************************************************************************/\n",
        "#                                                                           /\n",
        "#                                                        :::      ::::::::  /\n",
        "#   week3-part1.c                                      :+:      :+:    :+:  /\n",
        "#                                                    +:+ +:+         +:+    /\n",
        "#   By: mmarinel <mmarinel@student.42.fr>          +#+  +:+       +#+       /\n",
        "#                                                +#+#+#+#+#+   +#+          /\n",
        "#   Created: 2022/06/03 22:13:40 by mmarinel          #+#    #+#            /\n",
        "#   Updated: 2022/06/03 22:50:17 by mmarinel         ###   ########.fr      /\n",
        "#                                                                           /\n",
        "#***************************************************************************/\n",
        "\n",
        "\n",
        "import numpy as np\n",
        "import pandas as pd\n",
        "\n",
        "################################### debug\n",
        "# pd.set_option('display.max_rows', None)\n",
        "########################################\n",
        "\n",
        "################  E01\n",
        "ds_path = \"/content/drive/MyDrive/Colab Notebooks/datasets/datasets/Salaries.csv\"\n",
        "sal_df = pd.read_csv(ds_path)\n",
        "sal_df = sal_df.drop_duplicates() # just to make sure we don't have any duplicate record\n",
        "\n",
        "############## IMPORTANT!!!\n",
        "#### to fix issue found in E07, we could have filtered our dataframe like so\n",
        "#sal_df = sal_df[sal_df['BasePay'] > 0][sal_df['OvertimePay'] > 0][sal_df['OtherPay'] > 0][sal_df['Benefits'] > 0]\n",
        "\n",
        "sal_df.head()\n",
        "\n",
        "################  E02\n",
        "sal_df.info()\n",
        "\n",
        "################  E03\n",
        "sal_df['OvertimePay'].max()\n",
        "\n",
        "################  E04\n",
        "sal_df[sal_df['EmployeeName'] == 'JOSEPH DRISCOLL']['JobTitle']\n",
        "\n",
        "################  E05\n",
        "\n",
        "##### let's execute the following statement just to make sure \n",
        "##### that TotalPayBenefits = BasePay + OvertimePay + OtherPay + Benefits\n",
        "### .....\n",
        "# sal_df[sal_df['EmployeeName'] == 'JOSEPH DRISCOLL'][['BasePay', 'OvertimePay', 'OtherPay', 'Benefits']].sum(axis=1)\n",
        "\n",
        "\n",
        "sal_df[sal_df['EmployeeName'] == 'JOSEPH DRISCOLL']['TotalPayBenefits']\n",
        "\n",
        "################  E06\n",
        "sal_df[sal_df['TotalPayBenefits'] == sal_df['TotalPayBenefits'].max(axis=0)]['EmployeeName']\n",
        "\n",
        "################  E07\n",
        "\n",
        "# running this little piece of code we note the presence of negative values...\n",
        "#\n",
        "# sal_df[sal_df['TotalPayBenefits'] == sal_df['TotalPayBenefits'].min(axis=0)]\n",
        "\n",
        "# For the reason above, we now iterate over positive values only!\n",
        "real_min = sal_df[sal_df['TotalPayBenefits'] >= 0]['TotalPayBenefits'].min(axis=0)\n",
        "sal_df[sal_df['TotalPayBenefits'] == real_min]['EmployeeName']\n",
        "\n",
        "################  E08\n",
        "adjusted_df = sal_df[sal_df['BasePay'] >= 0]\n",
        "adjusted_df.groupby('Year')['BasePay'].mean()\n",
        "\n",
        "################  E09\n",
        "job_titles_df = sal_df[sal_df['JobTitle'] != 'Not provided'].groupby('JobTitle', dropna=True)\n",
        "job_titles_df.ngroups\n",
        "\n",
        "################  E10\n",
        "job_titles_df.size().sort_values(ascending=False).head()\n",
        "\n",
        "################  E11\n",
        "adjusted_df = sal_df[sal_df['Year'] == 2013]\n",
        "adjusted_jobs_df = adjusted_df[adjusted_df['JobTitle'] != 'Not provided'].groupby('JobTitle', dropna=True)\n",
        "\n",
        "adjusted_jobs_df.filter(lambda x: len(x) == 1)['JobTitle'].count()\n",
        "\n",
        "################  E12\n",
        "sal_df.groupby('JobTitle', dropna=True).filter(lambda x: 'Chief' in str(x['JobTitle']))['JobTitle'].count()\n"
      ]
    },
    {
      "cell_type": "code",
      "source": [
        "#***************************************************************************/\n",
        "#                                                                           /\n",
        "#                                                        :::      ::::::::  /\n",
        "#   week3-BONUS-1.c                                    :+:      :+:    :+:  /\n",
        "#                                                    +:+ +:+         +:+    /\n",
        "#   By: mmarinel <mmarinel@student.42.fr>          +#+  +:+       +#+       /\n",
        "#                                                +#+#+#+#+#+   +#+          /\n",
        "#   Created: 2022/06/03 23:00:10 by mmarinel          #+#    #+#            /\n",
        "#   Updated: 2022/06/04 00:30:21 by mmarinel         ###   ########.fr      /\n",
        "#                                                                           /\n",
        "#***************************************************************************/\n",
        "\n",
        "\n",
        "##########  BONUS 1\n",
        "import numpy as np\n",
        "import pandas as pd\n",
        "import matplotlib.pyplot as plt\n",
        "\n",
        "################################### debug\n",
        "pd.set_option('display.max_rows', None)\n",
        "########################################\n",
        "\n",
        "ds_path =  \"/content/drive/MyDrive/Colab Notebooks/datasets/datasets/titles.csv\"\n",
        "nflx_df = pd.read_csv( \"/content/drive/MyDrive/Colab Notebooks/datasets/datasets/titles.csv\")\n",
        "nflx_df = nflx_df.drop_duplicates()\n",
        "nflx_df.info()\n"
      ],
      "metadata": {
        "colab": {
          "base_uri": "https://localhost:8080/"
        },
        "id": "D-rU0RVLJWdV",
        "outputId": "d29d2a0e-4f89-485c-ac25-28ec45ce585e"
      },
      "execution_count": null,
      "outputs": [
        {
          "output_type": "stream",
          "name": "stdout",
          "text": [
            "<class 'pandas.core.frame.DataFrame'>\n",
            "Int64Index: 5806 entries, 0 to 5805\n",
            "Data columns (total 15 columns):\n",
            " #   Column                Non-Null Count  Dtype  \n",
            "---  ------                --------------  -----  \n",
            " 0   id                    5806 non-null   object \n",
            " 1   title                 5805 non-null   object \n",
            " 2   type                  5806 non-null   object \n",
            " 3   description           5788 non-null   object \n",
            " 4   release_year          5806 non-null   int64  \n",
            " 5   age_certification     3196 non-null   object \n",
            " 6   runtime               5806 non-null   int64  \n",
            " 7   genres                5806 non-null   object \n",
            " 8   production_countries  5806 non-null   object \n",
            " 9   seasons               2047 non-null   float64\n",
            " 10  imdb_id               5362 non-null   object \n",
            " 11  imdb_score            5283 non-null   float64\n",
            " 12  imdb_votes            5267 non-null   float64\n",
            " 13  tmdb_popularity       5712 non-null   float64\n",
            " 14  tmdb_score            5488 non-null   float64\n",
            "dtypes: float64(5), int64(2), object(8)\n",
            "memory usage: 725.8+ KB\n"
          ]
        }
      ]
    },
    {
      "cell_type": "code",
      "source": [
        "###############  E01  (it seems like matplotlib.pyplot interpolates...)\n",
        "\n",
        "##      PLEASE TAKE A LOOK AT ALTERNATIVE VERSION BELOW\n",
        "\n",
        "plt.plot(nflx_df[nflx_df['type'] == 'MOVIE'][['type', 'release_year']].groupby('release_year', dropna=True).count())\n",
        "plt.xlabel(\"calendar year\", weight='bold')\n",
        "plt.ylabel(\"movies released\", weight='bold')\n",
        "\n",
        "plt.show()"
      ],
      "metadata": {
        "colab": {
          "base_uri": "https://localhost:8080/",
          "height": 279
        },
        "id": "BypXVUfOuHX9",
        "outputId": "9c1cc63e-1c4a-4c99-d84d-a847d415ccd4"
      },
      "execution_count": null,
      "outputs": [
        {
          "output_type": "display_data",
          "data": {
            "text/plain": [
              "<Figure size 432x288 with 1 Axes>"
            ],
            "image/png": "[encoded data removed]"
          },
          "metadata": {
            "needs_background": "light"
          }
        }
      ]
    },
    {
      "cell_type": "code",
      "source": [
        "###############  E01  ALTERNATIVE VERSION (Years are more distinguishable)\n",
        "\n",
        "\n",
        "# taking movies from netflix dataframe along with release year                                                                       \n",
        "mvs_per_year = nflx_df[nflx_df['type'] == 'MOVIE'][['type', 'release_year']]\n",
        "\n",
        "\n",
        "# grouping by release year and taking number of movies produced during each year\n",
        "\n",
        "                                  # as_index = False explained in next exercise\n",
        "                                  # ....\n",
        "                                  # count() ignores NaN values,\n",
        "                                  # so dropna is not necessary\n",
        "mvs_per_year = mvs_per_year.groupby('release_year', as_index=False, dropna=True).count()\n",
        "mvs_per_year.rename(columns = {'type':'count'}, inplace=True)\n",
        "mvs_per_year = mvs_per_year.sort_values('count', ascending=False).head()\n",
        "\n",
        "# setting x axis to numeric values (.bar does not accept strings as x-values)\n",
        "x_axis = np.arange(len(mvs_per_year))\n",
        "y_axis = mvs_per_year['count']\n",
        "\n",
        "# putting correct labels on x values (we kinda replaced what we did earlier)\n",
        "plt.xticks(x_axis, mvs_per_year['release_year'])\n",
        "\n",
        "plt.xlabel(\"release year\", weight='bold')\n",
        "plt.ylabel(\"movies released\", weight='bold')\n",
        "\n",
        "plt.bar(x_axis, y_axis)\n"
      ],
      "metadata": {
        "colab": {
          "base_uri": "https://localhost:8080/",
          "height": 296
        },
        "id": "CmZ4GArce-3S",
        "outputId": "f15d3f97-3e42-436c-e6f3-3e60dc0da2e3"
      },
      "execution_count": null,
      "outputs": [
        {
          "output_type": "execute_result",
          "data": {
            "text/plain": [
              "<BarContainer object of 5 artists>"
            ]
          },
          "metadata": {},
          "execution_count": 82
        },
        {
          "output_type": "display_data",
          "data": {
            "text/plain": [
              "<Figure size 432x288 with 1 Axes>"
            ],
            "image/png": "[encoded data removed]"
          },
          "metadata": {
            "needs_background": "light"
          }
        }
      ]
    },
    {
      "cell_type": "code",
      "source": [
        "###############  E02\n",
        "                                  # as_index = False to avoid grouped by column\n",
        "                                  # being transformed to index (!= column).\n",
        "                                  \n",
        "                                  # That means we would have gotten a dataframe\n",
        "                                  # with only one column.\n",
        "                                  # (the index is not a column and it's used to identify\n",
        "                                  # rows in a dataframe)\n",
        "mvs_vs_tv = nflx_df[['type', 'id']].groupby('type', dropna=True, as_index=False).count()\n",
        "mvs_vs_tv.rename(columns = {'id':'count'}, inplace=True)\n",
        "\n",
        "# setting x axis to numeric values (.bar does not accept strings as x-values)\n",
        "x_axis = [0, 1]\n",
        "y_axis = mvs_vs_tv['count']\n",
        "\n",
        "# putting correct labels on x values (we kinda replaced what we did earlier)\n",
        "plt.xticks(x_axis, mvs_vs_tv['type'])\n",
        "\n",
        "plt.xlabel(\"movie/tv-show\", weight='bold')\n",
        "plt.ylabel(\"count\", weight='bold')\n",
        "\n",
        "plt.bar(x_axis, y_axis)\n"
      ],
      "metadata": {
        "colab": {
          "base_uri": "https://localhost:8080/",
          "height": 296
        },
        "id": "UzYTrQOGuJ7N",
        "outputId": "e1afaad9-df9a-40b5-a939-1862673c398c"
      },
      "execution_count": null,
      "outputs": [
        {
          "output_type": "execute_result",
          "data": {
            "text/plain": [
              "<BarContainer object of 2 artists>"
            ]
          },
          "metadata": {},
          "execution_count": 83
        },
        {
          "output_type": "display_data",
          "data": {
            "text/plain": [
              "<Figure size 432x288 with 1 Axes>"
            ],
            "image/png": "[encoded data removed]"
          },
          "metadata": {
            "needs_background": "light"
          }
        }
      ]
    },
    {
      "cell_type": "code",
      "source": [
        "###############  E03\n",
        "\n",
        "# includes\n",
        "from ast import literal_eval\n"
      ],
      "metadata": {
        "id": "pulwEYwAuQQd"
      },
      "execution_count": null,
      "outputs": []
    },
    {
      "cell_type": "code",
      "source": [
        "# E03.01\n",
        "\n",
        "# step1:  decomposing 'genres' column to obtain one row for each genre\n",
        "\n",
        "                  # making a (deep) copy of the netflix dataframe\n",
        "gnrs_popularity = nflx_df.copy()\n",
        "\n",
        "gnrs_popularity['genres'] = gnrs_popularity['genres'].apply(literal_eval)\n",
        "gnrs_popularity = gnrs_popularity.explode('genres')\n",
        "\n",
        "\n",
        "#step2: We take the MEAN popularity score of the 5 most popular genres\n",
        "gnrs_popularity = gnrs_popularity[['genres', 'tmdb_popularity']]\n",
        "gnrs_popularity = gnrs_popularity.groupby('genres', dropna=True, as_index=False).mean()\n",
        "gnrs_popularity = gnrs_popularity.sort_values('tmdb_popularity', ascending=False).head()\n",
        "\n",
        "\n",
        "#step3: plotting as bar chart\n",
        "x_axis = np.arange(len(gnrs_popularity))\n",
        "y_axis = gnrs_popularity['tmdb_popularity']\n",
        "\n",
        "plt.xticks(x_axis, gnrs_popularity['genres'])\n",
        "\n",
        "plt.xlabel(\"genres\", weight = 'bold')\n",
        "plt.ylabel(\"popularity mean score\", weight = 'bold')\n",
        "\n",
        "plt.bar(x_axis, y_axis)\n"
      ],
      "metadata": {
        "colab": {
          "base_uri": "https://localhost:8080/",
          "height": 296
        },
        "id": "uCmaQkRKw99m",
        "outputId": "987c9a1b-3872-454e-f168-a8a65552a24e"
      },
      "execution_count": null,
      "outputs": [
        {
          "output_type": "execute_result",
          "data": {
            "text/plain": [
              "<BarContainer object of 5 artists>"
            ]
          },
          "metadata": {},
          "execution_count": 85
        },
        {
          "output_type": "display_data",
          "data": {
            "text/plain": [
              "<Figure size 432x288 with 1 Axes>"
            ],
            "image/png": "[encoded data removed]"
          },
          "metadata": {
            "needs_background": "light"
          }
        }
      ]
    },
    {
      "cell_type": "code",
      "source": [
        "# E03.02\n",
        "\n",
        "# step1:  decomposing 'genres' column to obtain one row for each genre\n",
        "\n",
        "                  ## making a (deep) copy of the netflix dataframe\n",
        "gnrs_popularity = nflx_df.copy()\n",
        "\n",
        "gnrs_popularity['genres'] = gnrs_popularity['genres'].apply(literal_eval)\n",
        "gnrs_popularity = gnrs_popularity.explode('genres')\n",
        "\n",
        "\n",
        "#step2: We take the MEAN imdb rating of the 5 most voted genres\n",
        "gnrs_popularity = gnrs_popularity[['genres', 'imdb_votes']]\n",
        "gnrs_popularity = gnrs_popularity.groupby('genres', dropna=True, as_index=False).mean()\n",
        "gnrs_popularity = gnrs_popularity.sort_values('imdb_votes', ascending=False).head()\n",
        "\n",
        "\n",
        "#step3: plotting as bar chart\n",
        "x_axis = np.arange(len(gnrs_popularity))\n",
        "y_axis = gnrs_popularity['imdb_votes']\n",
        "\n",
        "plt.xticks(x_axis, gnrs_popularity['genres'])\n",
        "\n",
        "plt.xlabel(\"genres\", weight = 'bold')\n",
        "plt.ylabel(\"imdb mean rating\", weight = 'bold')\n",
        "\n",
        "plt.bar(x_axis, y_axis)\n"
      ],
      "metadata": {
        "colab": {
          "base_uri": "https://localhost:8080/",
          "height": 296
        },
        "id": "_ZA4CkNnwmwq",
        "outputId": "d0c760a3-d8f2-4ead-8e01-b762eb699c35"
      },
      "execution_count": null,
      "outputs": [
        {
          "output_type": "execute_result",
          "data": {
            "text/plain": [
              "<BarContainer object of 5 artists>"
            ]
          },
          "metadata": {},
          "execution_count": 86
        },
        {
          "output_type": "display_data",
          "data": {
            "text/plain": [
              "<Figure size 432x288 with 1 Axes>"
            ],
            "image/png": "[encoded data removed]"
          },
          "metadata": {
            "needs_background": "light"
          }
        }
      ]
    },
    {
      "cell_type": "code",
      "source": [
        "################  E04\n",
        "\n",
        "# step1:  decomposing 'production countries' column to obtain one row for each production country\n",
        "from ast import literal_eval\n",
        "\n",
        "                  # making a (deep) copy of the netflix dataframe\n",
        "gnrs_popularity = nflx_df.copy()\n",
        "\n",
        "gnrs_popularity['production_countries'] = gnrs_popularity['production_countries'].apply(literal_eval)\n",
        "gnrs_popularity = gnrs_popularity.explode('production_countries')\n",
        "\n",
        "\n",
        "#step2: \n",
        "#       2.1.  For each year, we take the MEAN popularity score of the movies that were \n",
        "#             produced during that year\n",
        "#\n",
        "#       2.2.  We then take the first 5 years with the highest MEAN popularity score\n",
        "\n",
        "# grepping US movies\n",
        "gnrs_popularity = gnrs_popularity[gnrs_popularity['production_countries'] == 'US']\n",
        "\n",
        "# taking the first 5 years with the highest MEAN popularity score\n",
        "gnrs_popularity = gnrs_popularity[['release_year', 'tmdb_popularity']]\n",
        "gnrs_popularity = gnrs_popularity.groupby('release_year', dropna=True, as_index=False).mean()\n",
        "gnrs_popularity = gnrs_popularity.sort_values('tmdb_popularity', ascending=False).head()\n",
        "\n",
        "#step3: plotting as bar chart\n",
        "x_axis = np.arange(len(gnrs_popularity))\n",
        "y_axis = gnrs_popularity['tmdb_popularity']\n",
        "\n",
        "plt.xticks(x_axis, gnrs_popularity['release_year'])\n",
        "\n",
        "plt.xlabel(\"release_year\", weight = 'bold')\n",
        "plt.ylabel(\"popularity mean score\", weight = 'bold')\n",
        "\n",
        "plt.bar(x_axis, y_axis)\n"
      ],
      "metadata": {
        "colab": {
          "base_uri": "https://localhost:8080/",
          "height": 297
        },
        "id": "eCbRJbM3uTSR",
        "outputId": "33c4ea24-84de-4920-b92c-e416ce0cb128"
      },
      "execution_count": null,
      "outputs": [
        {
          "output_type": "execute_result",
          "data": {
            "text/plain": [
              "<BarContainer object of 5 artists>"
            ]
          },
          "metadata": {},
          "execution_count": 87
        },
        {
          "output_type": "display_data",
          "data": {
            "text/plain": [
              "<Figure size 432x288 with 1 Axes>"
            ],
            "image/png": "[encoded data removed]"
          },
          "metadata": {
            "needs_background": "light"
          }
        }
      ]
    }
  ]
}