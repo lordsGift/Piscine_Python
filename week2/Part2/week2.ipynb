{
  "nbformat": 4,
  "nbformat_minor": 0,
  "metadata": {
    "colab": {
      "name": "week2.ipynb",
      "provenance": [],
      "collapsed_sections": []
    },
    "kernelspec": {
      "name": "python3",
      "display_name": "Python 3"
    },
    "language_info": {
      "name": "python"
    }
  },
  "cells": [
    {
      "cell_type": "code",
      "execution_count": 310,
      "metadata": {
        "colab": {
          "base_uri": "https://localhost:8080/"
        },
        "id": "KqLv7CHp3UBv",
        "outputId": "66b85f42-027f-4809-d703-f1baf8b524fb"
      },
      "outputs": [
        {
          "output_type": "execute_result",
          "data": {
            "text/plain": [
              "array([[3, 2, 2, 2],\n",
              "       [2, 3, 2, 0],\n",
              "       [2, 2, 1, 1],\n",
              "       [2, 2, 3, 2]])"
            ]
          },
          "metadata": {},
          "execution_count": 310
        }
      ],
      "source": [
        "#***************************************************************************/\n",
        "#                                                                           /\n",
        "#                                                        :::      ::::::::  /\n",
        "#   prova.c                                            :+:      :+:    :+:  /\n",
        "#                                                    +:+ +:+         +:+    /\n",
        "#   By: mmarinel <mmarinel@student.42.fr>          +#+  +:+       +#+       /\n",
        "#                                                +#+#+#+#+#+   +#+          /\n",
        "#   Created: 2022/05/24 17:52:40 by mmarinel          #+#    #+#            /\n",
        "#   Updated: 2022/05/24 17:52:40 by mmarinel         ###   ########.fr      /\n",
        "#                                                                           /\n",
        "#***************************************************************************/\n",
        "\n",
        "import numpy as np\n",
        "import matplotlib.pyplot as plt\n",
        "\n",
        "\n",
        "######################################## E01 ###################################\n",
        "MIN_ROWS_E01 = 2\n",
        "MAX_ROWS_E01 = 5\n",
        "\n",
        "MIN_COLS_E01 = 2\n",
        "MAX_COLS_E01 = 5\n",
        "\n",
        "### Initializing random sizes\n",
        "a_E01 = np.ones(\n",
        "    (\n",
        "        np.random.randint(MIN_ROWS_E01, MAX_ROWS_E01),\n",
        "        np.random.randint(MIN_COLS_E01, MAX_COLS_E01)\n",
        "    )\n",
        ")\n",
        "\n",
        "### getting random elements following Binomial distribution\n",
        "b_E01 = np.matrix(list(map(\n",
        "                  lambda row: list(map(lambda _: np.random.binomial(15, 0.5), row)),\n",
        "                  a_E01\n",
        "               ))\n",
        ")\n",
        "\n",
        "b_E01\n",
        "\n",
        "######################################## E02 ###################################\n",
        "\n",
        "\n",
        "a_E02 = np.arange(1, 13, 1)\n",
        "\n",
        "a_E02.shape = (4, 3)\n",
        "a_E02\n",
        "\n",
        "######################################## E03 ###################################\n",
        "\n",
        "def create_1_n_array(n):\n",
        "    return (np.array\n",
        "            (\n",
        "                np.matrix(\n",
        "                    np.linspace(0, 1, n)\n",
        "                    )\n",
        "                )\n",
        "            )\n",
        "\n",
        "a_E03 = create_1_n_array(5)\n",
        "\n",
        "a_E03.shape\n",
        "\n",
        "######################################## E04 ###################################\n",
        "\n",
        "a_E04 = np.empty(\n",
        "    (\n",
        "        10,\n",
        "        12\n",
        "    )\n",
        ")\n",
        "\n",
        "b_E04 = np.array(list(map(\n",
        "                  lambda row: list(map(lambda _: np.random.binomial(4, 0.5), row)),\n",
        "                  a_E04\n",
        "               )))\n",
        "\n",
        "b_E04[0:4, 8:12]\n",
        "\n",
        "######################################## E05 ###################################\n",
        "\n"
      ]
    },
    {
      "cell_type": "code",
      "source": [
        "import numpy as np\n",
        "\n",
        "##  E01\n",
        "np.zeros(10)\n",
        "\n",
        "##  E02\n",
        "np.ones(10)\n",
        "\n",
        "##  E03\n",
        "np.arange(11, 49, 2)\n",
        "\n",
        "##  E04\n",
        "np.identity(3)\n",
        "\n",
        "##  E05\n",
        "np.random.rand()\n",
        "\n",
        "##  E06\n",
        "np.linspace(0, 1, 10)  # errorino nell'ultima cifra significativa\n"
      ],
      "metadata": {
        "colab": {
          "base_uri": "https://localhost:8080/"
        },
        "id": "6EfjdsPS3WDE",
        "outputId": "0303a3c9-9c7b-499a-e256-39a3057d1fc4"
      },
      "execution_count": null,
      "outputs": [
        {
          "output_type": "execute_result",
          "data": {
            "text/plain": [
              "array([0.        , 0.11111111, 0.22222222, 0.33333333, 0.44444444,\n",
              "       0.55555556, 0.66666667, 0.77777778, 0.88888889, 1.        ])"
            ]
          },
          "metadata": {},
          "execution_count": 29
        }
      ]
    }
  ]
}