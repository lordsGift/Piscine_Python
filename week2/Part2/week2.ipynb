{
  "nbformat": 4,
  "nbformat_minor": 0,
  "metadata": {
    "colab": {
      "name": "week2.ipynb",
      "provenance": [],
      "collapsed_sections": []
    },
    "kernelspec": {
      "name": "python3",
      "display_name": "Python 3"
    },
    "language_info": {
      "name": "python"
    }
  },
  "cells": [
    {
      "cell_type": "code",
      "execution_count": 339,
      "metadata": {
        "colab": {
          "base_uri": "https://localhost:8080/",
          "height": 601
        },
        "id": "KqLv7CHp3UBv",
        "outputId": "54273ad5-24e0-45a8-d2c0-1d324c0661c9"
      },
      "outputs": [
        {
          "output_type": "error",
          "ename": "ValueError",
          "evalue": "ignored",
          "traceback": [
            "\u001b[0;31m---------------------------------------------------------------------------\u001b[0m",
            "\u001b[0;31mValueError\u001b[0m                                Traceback (most recent call last)",
            "\u001b[0;32m<ipython-input-339-0374547d3d3a>\u001b[0m in \u001b[0;36m<module>\u001b[0;34m()\u001b[0m\n\u001b[1;32m     95\u001b[0m \u001b[0;34m\u001b[0m\u001b[0m\n\u001b[1;32m     96\u001b[0m \u001b[0mplotted\u001b[0m \u001b[0;34m=\u001b[0m \u001b[0ma_E05\u001b[0m\u001b[0;34m\u001b[0m\u001b[0;34m\u001b[0m\u001b[0m\n\u001b[0;32m---> 97\u001b[0;31m \u001b[0mplotted\u001b[0m\u001b[0;34m.\u001b[0m\u001b[0mdot\u001b[0m\u001b[0;34m(\u001b[0m\u001b[0mimg\u001b[0m\u001b[0;34m)\u001b[0m\u001b[0;34m\u001b[0m\u001b[0;34m\u001b[0m\u001b[0m\n\u001b[0m\u001b[1;32m     98\u001b[0m \u001b[0mplotted\u001b[0m\u001b[0;34m.\u001b[0m\u001b[0mreshape\u001b[0m\u001b[0;34m(\u001b[0m\u001b[0;36m58\u001b[0m\u001b[0;34m,\u001b[0m \u001b[0;36m64\u001b[0m\u001b[0;34m)\u001b[0m\u001b[0;34m\u001b[0m\u001b[0;34m\u001b[0m\u001b[0m\n\u001b[1;32m     99\u001b[0m \u001b[0;34m\u001b[0m\u001b[0m\n",
            "\u001b[0;32m/usr/local/lib/python3.7/dist-packages/numpy/matrixlib/defmatrix.py\u001b[0m in \u001b[0;36m__array_finalize__\u001b[0;34m(self, obj)\u001b[0m\n\u001b[1;32m    178\u001b[0m                 \u001b[0;32mreturn\u001b[0m\u001b[0;34m\u001b[0m\u001b[0;34m\u001b[0m\u001b[0m\n\u001b[1;32m    179\u001b[0m             \u001b[0;32melif\u001b[0m \u001b[0;34m(\u001b[0m\u001b[0mndim\u001b[0m \u001b[0;34m>\u001b[0m \u001b[0;36m2\u001b[0m\u001b[0;34m)\u001b[0m\u001b[0;34m:\u001b[0m\u001b[0;34m\u001b[0m\u001b[0;34m\u001b[0m\u001b[0m\n\u001b[0;32m--> 180\u001b[0;31m                 \u001b[0;32mraise\u001b[0m \u001b[0mValueError\u001b[0m\u001b[0;34m(\u001b[0m\u001b[0;34m\"shape too large to be a matrix.\"\u001b[0m\u001b[0;34m)\u001b[0m\u001b[0;34m\u001b[0m\u001b[0;34m\u001b[0m\u001b[0m\n\u001b[0m\u001b[1;32m    181\u001b[0m         \u001b[0;32melse\u001b[0m\u001b[0;34m:\u001b[0m\u001b[0;34m\u001b[0m\u001b[0;34m\u001b[0m\u001b[0m\n\u001b[1;32m    182\u001b[0m             \u001b[0mnewshape\u001b[0m \u001b[0;34m=\u001b[0m \u001b[0mself\u001b[0m\u001b[0;34m.\u001b[0m\u001b[0mshape\u001b[0m\u001b[0;34m\u001b[0m\u001b[0;34m\u001b[0m\u001b[0m\n",
            "\u001b[0;31mValueError\u001b[0m: shape too large to be a matrix."
          ]
        },
        {
          "output_type": "display_data",
          "data": {
            "text/plain": [
              "<Figure size 432x288 with 1 Axes>"
            ],
            "image/png": "[encoded data removed]"
          },
          "metadata": {
            "needs_background": "light"
          }
        }
      ],
      "source": [
        "#***************************************************************************/\n",
        "#                                                                           /\n",
        "#                                                        :::      ::::::::  /\n",
        "#   prova.c                                            :+:      :+:    :+:  /\n",
        "#                                                    +:+ +:+         +:+    /\n",
        "#   By: mmarinel <mmarinel@student.42.fr>          +#+  +:+       +#+       /\n",
        "#                                                +#+#+#+#+#+   +#+          /\n",
        "#   Created: 2022/05/24 17:52:40 by mmarinel          #+#    #+#            /\n",
        "#   Updated: 2022/05/24 17:52:40 by mmarinel         ###   ########.fr      /\n",
        "#                                                                           /\n",
        "#***************************************************************************/\n",
        "\n",
        "import numpy as np\n",
        "import matplotlib.pyplot as plt\n",
        "\n",
        "\n",
        "######################################## E01 ###################################\n",
        "MIN_ROWS_E01 = 2\n",
        "MAX_ROWS_E01 = 5\n",
        "\n",
        "MIN_COLS_E01 = 2\n",
        "MAX_COLS_E01 = 5\n",
        "\n",
        "### Initializing random sizes\n",
        "a_E01 = np.ones(\n",
        "    (\n",
        "        np.random.randint(MIN_ROWS_E01, MAX_ROWS_E01),\n",
        "        np.random.randint(MIN_COLS_E01, MAX_COLS_E01)\n",
        "    )\n",
        ")\n",
        "\n",
        "### getting random elements following Binomial distribution\n",
        "b_E01 = np.matrix(list(map(\n",
        "                  lambda row: list(map(lambda _: np.random.binomial(15, 0.5), row)),\n",
        "                  a_E01\n",
        "               ))\n",
        ")\n",
        "\n",
        "b_E01\n",
        "\n",
        "######################################## E02 ###################################\n",
        "\n",
        "\n",
        "a_E02 = np.arange(1, 13, 1)\n",
        "\n",
        "a_E02.shape = (4, 3)\n",
        "a_E02\n",
        "\n",
        "######################################## E03 ###################################\n",
        "\n",
        "def create_1_n_array(n):\n",
        "    return (np.array\n",
        "            (\n",
        "                np.matrix(\n",
        "                    np.linspace(0, 1, n)\n",
        "                    )\n",
        "                )\n",
        "            )\n",
        "\n",
        "a_E03 = create_1_n_array(5)\n",
        "\n",
        "a_E03.shape\n",
        "\n",
        "######################################## E04 ###################################\n",
        "\n",
        "a_E04 = np.empty(\n",
        "    (\n",
        "        10,\n",
        "        12\n",
        "    )\n",
        ")\n",
        "\n",
        "b_E04 = np.array(list(map(\n",
        "                  lambda row: list(map(lambda _: np.random.binomial(4, 0.5), row)),\n",
        "                  a_E04\n",
        "               )))\n",
        "\n",
        "b_E04[0:4, 8:12]\n",
        "\n",
        "######################################## E05 ###################################\n",
        "                          ## i lambda sono inefficienti perche vanno in ricorsione\n",
        "                          ## ma non avevo voglia di ...\n",
        "def create_m_n_matrix(m, n):\n",
        "  f = lambda rows: list(create_1_n_array(n)) + list(f(rows - 1)) if (rows > 0) else []\n",
        "  return (np.matrix(f (m)))\n",
        "\n",
        "a_E05 = create_m_n_matrix(58, 64)\n",
        "\n",
        "plt.imshow(a_E05)\n",
        "\n",
        "######################################## E06 ###################################\n",
        "from skimage import io\n",
        "\n",
        "img = io.imread('rosa-1.png')\n",
        "\n",
        "plotted = a_E05\n",
        "plotted.dot(img)\n",
        "plotted.reshape(58, 64)\n",
        "\n",
        "# img.shape \n",
        "# plt.imshow(plotted)\n",
        "plotted.shape"
      ]
    },
    {
      "cell_type": "code",
      "source": [
        "import numpy as np\n",
        "\n",
        "##  E01\n",
        "np.zeros(10)\n",
        "\n",
        "##  E02\n",
        "np.ones(10)\n",
        "\n",
        "##  E03\n",
        "np.arange(11, 49, 2)\n",
        "\n",
        "##  E04\n",
        "np.identity(3)\n",
        "\n",
        "##  E05\n",
        "np.random.rand()\n",
        "\n",
        "##  E06\n",
        "np.linspace(0, 1, 10)  # errorino nell'ultima cifra significativa\n"
      ],
      "metadata": {
        "colab": {
          "base_uri": "https://localhost:8080/"
        },
        "id": "6EfjdsPS3WDE",
        "outputId": "0303a3c9-9c7b-499a-e256-39a3057d1fc4"
      },
      "execution_count": null,
      "outputs": [
        {
          "output_type": "execute_result",
          "data": {
            "text/plain": [
              "array([0.        , 0.11111111, 0.22222222, 0.33333333, 0.44444444,\n",
              "       0.55555556, 0.66666667, 0.77777778, 0.88888889, 1.        ])"
            ]
          },
          "metadata": {},
          "execution_count": 29
        }
      ]
    }
  ]
}