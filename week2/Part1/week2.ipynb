{
  "nbformat": 4,
  "nbformat_minor": 0,
  "metadata": {
    "colab": {
      "name": "Untitled0.ipynb",
      "provenance": [],
      "collapsed_sections": []
    },
    "kernelspec": {
      "name": "python3",
      "display_name": "Python 3"
    },
    "language_info": {
      "name": "python"
    }
  },
  "cells": [
    {
      "cell_type": "code",
      "execution_count": null,
      "metadata": {
        "colab": {
          "base_uri": "https://localhost:8080/"
        },
        "id": "KqLv7CHp3UBv",
        "outputId": "0e629aee-c753-4a42-bddf-08eb68465e38"
      },
      "outputs": [
        {
          "output_type": "stream",
          "name": "stdout",
          "text": [
            "hello\n"
          ]
        }
      ],
      "source": [
        "print ('hello')"
      ]
    },
    {
      "cell_type": "code",
      "source": [
        "import numpy as np\n",
        "\n",
        "##  E01\n",
        "np.zeros(10)\n",
        "\n",
        "##  E02\n",
        "np.ones(10)\n",
        "\n",
        "##  E03\n",
        "np.arange(11, 49, 2)\n",
        "\n",
        "##  E04\n",
        "np.identity(3)\n",
        "\n",
        "##  E05\n",
        "np.random.rand()\n",
        "\n",
        "##  E06\n",
        "np.linspace(0, 1, 10)  # errorino nell'ultima cifra significativa\n"
      ],
      "metadata": {
        "colab": {
          "base_uri": "https://localhost:8080/"
        },
        "id": "6EfjdsPS3WDE",
        "outputId": "0303a3c9-9c7b-499a-e256-39a3057d1fc4"
      },
      "execution_count": 29,
      "outputs": [
        {
          "output_type": "execute_result",
          "data": {
            "text/plain": [
              "array([0.        , 0.11111111, 0.22222222, 0.33333333, 0.44444444,\n",
              "       0.55555556, 0.66666667, 0.77777778, 0.88888889, 1.        ])"
            ]
          },
          "metadata": {},
          "execution_count": 29
        }
      ]
    }
  ]
}