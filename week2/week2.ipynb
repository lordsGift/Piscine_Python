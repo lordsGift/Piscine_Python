{
  "nbformat": 4,
  "nbformat_minor": 0,
  "metadata": {
    "colab": {
      "name": "week2.ipynb",
      "provenance": [],
      "collapsed_sections": []
    },
    "kernelspec": {
      "name": "python3",
      "display_name": "Python 3"
    },
    "language_info": {
      "name": "python"
    }
  },
  "cells": [
    {
      "cell_type": "code",
      "execution_count": null,
      "metadata": {
        "colab": {
          "base_uri": "https://localhost:8080/",
          "height": 286
        },
        "id": "KqLv7CHp3UBv",
        "outputId": "96029cc3-78db-4cc0-b1ca-57d3ea41099d"
      },
      "outputs": [
        {
          "output_type": "execute_result",
          "data": {
            "text/plain": [
              "<matplotlib.image.AxesImage at 0x7f1b7800d690>"
            ]
          },
          "metadata": {},
          "execution_count": 5
        },
        {
          "output_type": "display_data",
          "data": {
            "text/plain": [
              "<Figure size 432x288 with 1 Axes>"
            ],
            "image/png": "[encoded data removed]"
          },
          "metadata": {
            "needs_background": "light"
          }
        }
      ],
      "source": [
        "#***************************************************************************/\n",
        "#                                                                           /\n",
        "#                                                        :::      ::::::::  /\n",
        "#   week2-part2.c                                      :+:      :+:    :+:  /\n",
        "#                                                    +:+ +:+         +:+    /\n",
        "#   By: mmarinel <mmarinel@student.42.fr>          +#+  +:+       +#+       /\n",
        "#                                                +#+#+#+#+#+   +#+          /\n",
        "#   Created: 2022/05/24 17:52:40 by mmarinel          #+#    #+#            /\n",
        "#   Updated: 2022/05/24 17:52:40 by mmarinel         ###   ########.fr      /\n",
        "#                                                                           /\n",
        "#***************************************************************************/\n",
        "\n",
        "###################################  PART 2\n",
        "\n",
        "import numpy as np\n",
        "import matplotlib.pyplot as plt\n",
        "\n",
        "\n",
        "######################################## E01 ###################################\n",
        "MIN_ROWS_E01 = 2\n",
        "MAX_ROWS_E01 = 5\n",
        "\n",
        "MIN_COLS_E01 = 2\n",
        "MAX_COLS_E01 = 5\n",
        "\n",
        "### Initializing random sizes\n",
        "a_E01 = np.ones(\n",
        "    (\n",
        "        np.random.randint(MIN_ROWS_E01, MAX_ROWS_E01),\n",
        "        np.random.randint(MIN_COLS_E01, MAX_COLS_E01)\n",
        "    )\n",
        ")\n",
        "\n",
        "### getting random elements following Binomial distribution\n",
        "b_E01 = np.matrix(list(map(\n",
        "                  lambda row: list(map(lambda _: np.random.binomial(15, 0.5), row)),\n",
        "                  a_E01\n",
        "               ))\n",
        ")\n",
        "\n",
        "b_E01\n",
        "\n",
        "######################################## E02 ###################################\n",
        "\n",
        "\n",
        "a_E02 = np.arange(1, 13, 1)\n",
        "\n",
        "a_E02.shape = (4, 3)\n",
        "a_E02\n",
        "\n",
        "######################################## E03 ###################################\n",
        "\n",
        "def create_1_n_array(n):\n",
        "    return (np.array\n",
        "            (\n",
        "                np.matrix(\n",
        "                    np.linspace(0, 1, n)\n",
        "                    )\n",
        "                )\n",
        "            )\n",
        "\n",
        "a_E03 = create_1_n_array(5)\n",
        "\n",
        "a_E03.shape\n",
        "\n",
        "######################################## E04 ###################################\n",
        "\n",
        "### taking right sizes\n",
        "a_E04 = np.empty(\n",
        "    (\n",
        "        10,\n",
        "        12\n",
        "    )\n",
        ")\n",
        "\n",
        "### generating array randomly\n",
        "b_E04 = np.array(list(map(\n",
        "                  lambda row: list(map(lambda _: np.random.binomial(4, 0.5), row)),\n",
        "                  a_E04\n",
        "               )))\n",
        "\n",
        "## Taking desired result\n",
        "b_E04[0:5, 8:13]\n",
        "\n",
        "######################################## E05 ###################################\n",
        "\n",
        "                          ## i lambda sono inefficienti perche vanno in ricorsione\n",
        "                          ## ma non avevo voglia di ...\n",
        "def create_m_n_matrix_v0(m, n):\n",
        "  f = lambda rows: create_1_n_array(n) if (rows < 2) else np.vstack((create_1_n_array(n), f(rows - 1)))\n",
        "  return (np.matrix(f (m)))\n",
        "\n",
        "                  ## creiamo la versione 2 (PIU EFFICENTE) da utilizzare \n",
        "                  ## nell'esercizio successivo (é comunque inefficiente per immagini grandi)\n",
        "def create_m_n_matrix_v1(m, n):\n",
        "  res = None\n",
        "  for row in range(1, m + 1):\n",
        "    res = np.vstack((create_1_n_array(n), res)) if res is not None else create_1_n_array(n)\n",
        "  return (res)\n",
        "\n",
        "a_E05 = create_m_n_matrix_v1(634, 1200)\n",
        "\n",
        "plt.imshow(a_E05)\n",
        "\n",
        "######################################## E06 ###################################\n",
        "\n",
        "img = plt.imread('gatto_addestrabile.jpeg')\n",
        "\n",
        "plt.imshow(a_E05.dot(img).astype(np.uint8))\n"
      ]
    },
    {
      "cell_type": "code",
      "source": [
        "#***************************************************************************/\n",
        "#                                                                           /\n",
        "#                                                        :::      ::::::::  /\n",
        "#   week2-part1.c                                      :+:      :+:    :+:  /\n",
        "#                                                    +:+ +:+         +:+    /\n",
        "#   By: mmarinel <mmarinel@student.42.fr>          +#+  +:+       +#+       /\n",
        "#                                                +#+#+#+#+#+   +#+          /\n",
        "#   Created: 2022/05/24 17:52:40 by mmarinel          #+#    #+#            /\n",
        "#   Updated: 2022/05/24 17:52:40 by mmarinel         ###   ########.fr      /\n",
        "#                                                                           /\n",
        "#***************************************************************************/\n",
        "\n",
        "################################### PART 1\n",
        "import numpy as np\n",
        "\n",
        "##  E01\n",
        "np.zeros(10)\n",
        "\n",
        "##  E02\n",
        "np.ones(10)\n",
        "\n",
        "##  E03\n",
        "np.random.randint(10, 50, size=(np.random.randint(2, 10)))\n",
        "\n",
        "##  E04\n",
        "np.arange(10, 51, 2)\n",
        "\n",
        "##  E05\n",
        "np.identity(3)\n",
        "\n",
        "##  E06\n",
        "np.random.rand()\n",
        "\n",
        "##  E07\n",
        "np.linspace(0, 1, 10)  # errorino nell'ultima cifra significativa del 6o elemento\n"
      ],
      "metadata": {
        "colab": {
          "base_uri": "https://localhost:8080/"
        },
        "id": "6EfjdsPS3WDE",
        "outputId": "0303a3c9-9c7b-499a-e256-39a3057d1fc4"
      },
      "execution_count": null,
      "outputs": [
        {
          "output_type": "execute_result",
          "data": {
            "text/plain": [
              "array([0.        , 0.11111111, 0.22222222, 0.33333333, 0.44444444,\n",
              "       0.55555556, 0.66666667, 0.77777778, 0.88888889, 1.        ])"
            ]
          },
          "metadata": {},
          "execution_count": 29
        }
      ]
    }
  ]
}